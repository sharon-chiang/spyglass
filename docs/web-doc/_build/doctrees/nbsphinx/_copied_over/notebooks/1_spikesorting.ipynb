{
 "cells": [
  {
   "cell_type": "markdown",
   "metadata": {},
   "source": [
    "## NWB-Datajoint Spike Sorting Tutorial\n",
    "\n",
    "**Note: make a copy of this notebook and run the copy to avoid git conflicts in the future**\n",
    "\n",
    "This is the second in a multi-part tutorial on the NWB-Datajoint pipeline used in Loren Frank's lab, UCSF. It demonstrates how to run spike sorting and curate units within the pipeline.\n",
    "\n",
    "If you have not done [tutorial 0](0_intro.ipynb) yet, make sure to do so before proceeding. It is also recommended that you complete the [datajoint tutorials](https://tutorials.datajoint.io/) before starting this. \n",
    "\n",
    "**Note 2: Make sure you are running this within the spyglass Conda environment)**"
   ]
  },
  {
   "cell_type": "markdown",
   "metadata": {},
   "source": [
    "#### Spike Sorting Overview - With associated tables\n",
    "#### [Extracting the recording from the NWB file](#section1)<br>\n",
    "1. Specifying your [NWB](#Specifying-your-NWB-filename) file.<br>\n",
    "2. Specifying which electrodes involved in the recording to sort data from. - [`SortGroup`](#SortGroup)<br>\n",
    "3. Specifying the time segment of the recording we want to sort. - [`IntervalList`](#IntervalList), [`SortInterval`](#SortInterval)<br>\n",
    "4. Specifying the parameters to use for filtering the recording. - [`SpikeSortingFilterParameters`](#SpikeSortingFilterParameters)<br>\n",
    "5. Specifying the parameters to apply for artifact detection/removal. -[`SpikeSortingArtifactParameters`](#SpikeSortingArtifactParameters)<br>\n",
    "6. Combining these parameters. - [`SpikeSortingRecordingSelection`](#SpikeSortingRecordingSelection)<br>\n",
    "7. Extracting the recording. - [`SpikeSortingRecording`](#SpikeSortingRecording)<br>\n",
    "8. Add extracted recording to kachery server. - [`SpikeSortingWorkspace`](#SpikeSortingWorkspace)\n",
    "    \n",
    "#### [Spike sorting the extracted recording](#section2)<br>\n",
    "1. Choose which spike sorting algorithm to use. - [`SpikeSorter`](#SpikeSorter)<br>\n",
    "2. Specify the parameters for that spike sorter to use. - [`SpikeSorterParameters`](#SpikeSorterParameters)<br>\n",
    "3. Combine these parameters. - [`SpikeSortingSelection`](#SpikeSortingSelection)<br>\n",
    "4. Spike sort the extracted recording according to chose parameter set. - [`SpikeSorting`](#SpikeSorting)<br>\n",
    "5. Visualizing the sort using figurl. - [`Visualize`](#Revisiting-SpikeSortingWorkspace)<br>\n",
    "    \n",
    "\n",
    "<a href='#section1'></a>\n",
    "<a href='#section2'></a>"
   ]
  },
  {
   "cell_type": "markdown",
   "metadata": {},
   "source": [
    "Let's start by importing tables from spyglass along with some other useful packages"
   ]
  },
  {
   "cell_type": "code",
   "execution_count": null,
   "metadata": {
    "tags": []
   },
   "outputs": [],
   "source": [
    "import os\n",
    "import numpy as np\n",
    "import datajoint as dj\n",
    "import spyglass as nd\n",
    "# ignore datajoint+jupyter async warnings\n",
    "import warnings\n",
    "warnings.simplefilter('ignore', category=DeprecationWarning)\n",
    "warnings.simplefilter('ignore', category=ResourceWarning)\n",
    "from spyglass.common import (SortGroup, SpikeSortingFilterParameters,\n",
    "                                  SpikeSortingArtifactDetectionParameters,\n",
    "                                  SpikeSortingRecordingSelection, SpikeSortingRecording, \n",
    "                                  SpikeSortingWorkspace, SortingID,\n",
    "                                  SpikeSorter, SpikeSorterParameters,\n",
    "                                  SpikeSortingSelection, SpikeSorting, \n",
    "                                  SpikeSortingMetricParameters,\n",
    "                                  AutomaticCurationParameters, AutomaticCurationSelection,\n",
    "                                  AutomaticCuration, Nwbfile,\n",
    "                                  CuratedSpikeSortingSelection, CuratedSpikeSorting,\n",
    "                                  IntervalList, SortInterval,\n",
    "                                  LabMember, LabTeam, Raw, Session)"
   ]
  },
  {
   "cell_type": "markdown",
   "metadata": {},
   "source": [
    "Now let's make sure that you're a part of the LorenLab `LabTeam`, so you'll have the right permissions for this tutorial.<br>Replace `your_name`, `your_email`, and `datajoint_username`, with your information."
   ]
  },
  {
   "cell_type": "code",
   "execution_count": 3,
   "metadata": {},
   "outputs": [],
   "source": [
    "your_name = 'FirstName LastName'\n",
    "your_email = 'gmail@gmail.com'\n",
    "datajoint_username = 'user'"
   ]
  },
  {
   "cell_type": "code",
   "execution_count": null,
   "metadata": {},
   "outputs": [],
   "source": [
    "lorenlab_team_members = (LabTeam().LabTeamMember() & {'team_name' : 'LorenLab'}).fetch('lab_member_name').tolist()\n",
    "LabMember.insert_from_name(your_name)\n",
    "LabMember.LabMemberInfo.insert1([your_name, your_email, datajoint_username], skip_duplicates=True)\n",
    "LabTeam.LabTeamMember.insert1({'team_name' : 'LorenLab', \n",
    "                               'lab_member_name' : your_name}, skip_duplicates=True)"
   ]
  },
  {
   "cell_type": "markdown",
   "metadata": {},
   "source": [
    "Now try and use the `fetch` command and the example above to complete the code below and query the `LabTeam` table to double-check that you are a part of the `LorenLab` team."
   ]
  },
  {
   "cell_type": "code",
   "execution_count": null,
   "metadata": {},
   "outputs": [],
   "source": [
    "if your_name in (LabTeam._____() & {___:____}).fetch(______).tolist():\n",
    "    print('You made it in!')"
   ]
  },
  {
   "cell_type": "markdown",
   "metadata": {},
   "source": [
    "#### Specifying your NWB filename\n",
    "NWB filenames take the form of an animal name plus the date of the recording.<br>For this tutorial, we will use the nwb file `'montague20200802_tutorial_.nwb'`. The animal name is `montague` and the date of the recording is `20200802`, the `tutorial` is unique to this setting :-).<br>We'll first re-insert the NWB file that you deleted at the end of `0_intro`. This file may already be in the table, in which case there will be a warning, that's ok!<br>**Note**: If you're not on the Frank Lab server, this file will be accessible as `montague20200802.nwb` on DANDI through this URL: **insert-url**"
   ]
  },
  {
   "cell_type": "code",
   "execution_count": 4,
   "metadata": {},
   "outputs": [
    {
     "data": {
      "text/html": [
       "\n",
       "    \n",
       "    <style type=\"text/css\">\n",
       "        .Relation{\n",
       "            border-collapse:collapse;\n",
       "        }\n",
       "        .Relation th{\n",
       "            background: #A0A0A0; color: #ffffff; padding:4px; border:#f0e0e0 1px solid;\n",
       "            font-weight: normal; font-family: monospace; font-size: 100%;\n",
       "        }\n",
       "        .Relation td{\n",
       "            padding:4px; border:#f0e0e0 1px solid; font-size:100%;\n",
       "        }\n",
       "        .Relation tr:nth-child(odd){\n",
       "            background: #ffffff;\n",
       "        }\n",
       "        .Relation tr:nth-child(even){\n",
       "            background: #f3f1ff;\n",
       "        }\n",
       "        /* Tooltip container */\n",
       "        .djtooltip {\n",
       "        }\n",
       "        /* Tooltip text */\n",
       "        .djtooltip .djtooltiptext {\n",
       "            visibility: hidden;\n",
       "            width: 120px;\n",
       "            background-color: black;\n",
       "            color: #fff;\n",
       "            text-align: center;\n",
       "            padding: 5px 0;\n",
       "            border-radius: 6px;\n",
       "            /* Position the tooltip text - see examples below! */\n",
       "            position: absolute;\n",
       "            z-index: 1;\n",
       "        }\n",
       "        #primary {\n",
       "            font-weight: bold;\n",
       "            color: black;\n",
       "        }\n",
       "        #nonprimary {\n",
       "            font-weight: normal;\n",
       "            color: white;\n",
       "        }\n",
       "\n",
       "        /* Show the tooltip text when you mouse over the tooltip container */\n",
       "        .djtooltip:hover .djtooltiptext {\n",
       "            visibility: visible;\n",
       "        }\n",
       "    </style>\n",
       "    \n",
       "    <b></b>\n",
       "        <div style=\"max-height:1000px;max-width:1500px;overflow:auto;\">\n",
       "        <table border=\"1\" class=\"Relation\">\n",
       "            <thead> <tr style=\"text-align: right;\"> <th> <div class=\"djtooltip\">\n",
       "                            <p id=\"primary\">nwb_file_name</p>\n",
       "                            <span class=\"djtooltiptext\">name of the NWB file</span>\n",
       "                        </div></th><th><div class=\"djtooltip\">\n",
       "                            <p id=\"primary\">electrode_group_name</p>\n",
       "                            <span class=\"djtooltiptext\">electrode group name from NWBFile</span>\n",
       "                        </div></th><th><div class=\"djtooltip\">\n",
       "                            <p id=\"primary\">electrode_id</p>\n",
       "                            <span class=\"djtooltiptext\">the unique number for this electrode</span>\n",
       "                        </div></th><th><div class=\"djtooltip\">\n",
       "                            <p id=\"nonprimary\">probe_type</p>\n",
       "                            <span class=\"djtooltiptext\"></span>\n",
       "                        </div></th><th><div class=\"djtooltip\">\n",
       "                            <p id=\"nonprimary\">probe_shank</p>\n",
       "                            <span class=\"djtooltiptext\">shank number within probe</span>\n",
       "                        </div></th><th><div class=\"djtooltip\">\n",
       "                            <p id=\"nonprimary\">probe_electrode</p>\n",
       "                            <span class=\"djtooltiptext\">electrode</span>\n",
       "                        </div></th><th><div class=\"djtooltip\">\n",
       "                            <p id=\"nonprimary\">region_id</p>\n",
       "                            <span class=\"djtooltiptext\"></span>\n",
       "                        </div></th><th><div class=\"djtooltip\">\n",
       "                            <p id=\"nonprimary\">name</p>\n",
       "                            <span class=\"djtooltiptext\">unique label for each contact</span>\n",
       "                        </div></th><th><div class=\"djtooltip\">\n",
       "                            <p id=\"nonprimary\">original_reference_electrode</p>\n",
       "                            <span class=\"djtooltiptext\">the configured reference electrode for this electrode</span>\n",
       "                        </div></th><th><div class=\"djtooltip\">\n",
       "                            <p id=\"nonprimary\">x</p>\n",
       "                            <span class=\"djtooltiptext\">the x coordinate of the electrode position in the brain</span>\n",
       "                        </div></th><th><div class=\"djtooltip\">\n",
       "                            <p id=\"nonprimary\">y</p>\n",
       "                            <span class=\"djtooltiptext\">the y coordinate of the electrode position in the brain</span>\n",
       "                        </div></th><th><div class=\"djtooltip\">\n",
       "                            <p id=\"nonprimary\">z</p>\n",
       "                            <span class=\"djtooltiptext\">the z coordinate of the electrode position in the brain</span>\n",
       "                        </div></th><th><div class=\"djtooltip\">\n",
       "                            <p id=\"nonprimary\">filtering</p>\n",
       "                            <span class=\"djtooltiptext\">description of the signal filtering</span>\n",
       "                        </div></th><th><div class=\"djtooltip\">\n",
       "                            <p id=\"nonprimary\">impedance</p>\n",
       "                            <span class=\"djtooltiptext\">electrode impedance</span>\n",
       "                        </div></th><th><div class=\"djtooltip\">\n",
       "                            <p id=\"nonprimary\">bad_channel</p>\n",
       "                            <span class=\"djtooltiptext\">if electrode is 'good' or 'bad' as observed during recording</span>\n",
       "                        </div></th><th><div class=\"djtooltip\">\n",
       "                            <p id=\"nonprimary\">x_warped</p>\n",
       "                            <span class=\"djtooltiptext\">x coordinate of electrode position warped to common template brain</span>\n",
       "                        </div></th><th><div class=\"djtooltip\">\n",
       "                            <p id=\"nonprimary\">y_warped</p>\n",
       "                            <span class=\"djtooltiptext\">y coordinate of electrode position warped to common template brain</span>\n",
       "                        </div></th><th><div class=\"djtooltip\">\n",
       "                            <p id=\"nonprimary\">z_warped</p>\n",
       "                            <span class=\"djtooltiptext\">z coordinate of electrode position warped to common template brain</span>\n",
       "                        </div></th><th><div class=\"djtooltip\">\n",
       "                            <p id=\"nonprimary\">contacts</p>\n",
       "                            <span class=\"djtooltiptext\">label of electrode contacts used for a bipolar signal -- current workaround</span>\n",
       "                        </div> </th> </tr> </thead>\n",
       "            <tbody> <tr> <td>beans20190718_.nwb</td>\n",
       "<td>0</td>\n",
       "<td>0</td>\n",
       "<td>128c-4s8mm6cm-20um-40um-sl</td>\n",
       "<td>0</td>\n",
       "<td>0</td>\n",
       "<td>1</td>\n",
       "<td>0</td>\n",
       "<td>1</td>\n",
       "<td>0.0</td>\n",
       "<td>0.0</td>\n",
       "<td>0.0</td>\n",
       "<td>None</td>\n",
       "<td>0.0</td>\n",
       "<td>False</td>\n",
       "<td>0.0</td>\n",
       "<td>0.0</td>\n",
       "<td>0.0</td>\n",
       "<td></td></tr><tr><td>beans20190718_.nwb</td>\n",
       "<td>0</td>\n",
       "<td>1</td>\n",
       "<td>128c-4s8mm6cm-20um-40um-sl</td>\n",
       "<td>0</td>\n",
       "<td>1</td>\n",
       "<td>1</td>\n",
       "<td>1</td>\n",
       "<td>1</td>\n",
       "<td>0.0</td>\n",
       "<td>0.0</td>\n",
       "<td>0.0</td>\n",
       "<td>None</td>\n",
       "<td>0.0</td>\n",
       "<td>False</td>\n",
       "<td>0.0</td>\n",
       "<td>0.0</td>\n",
       "<td>0.0</td>\n",
       "<td></td></tr><tr><td>beans20190718_.nwb</td>\n",
       "<td>0</td>\n",
       "<td>3</td>\n",
       "<td>128c-4s8mm6cm-20um-40um-sl</td>\n",
       "<td>0</td>\n",
       "<td>3</td>\n",
       "<td>1</td>\n",
       "<td>3</td>\n",
       "<td>1</td>\n",
       "<td>0.0</td>\n",
       "<td>0.0</td>\n",
       "<td>0.0</td>\n",
       "<td>None</td>\n",
       "<td>0.0</td>\n",
       "<td>False</td>\n",
       "<td>0.0</td>\n",
       "<td>0.0</td>\n",
       "<td>0.0</td>\n",
       "<td></td></tr><tr><td>beans20190718_.nwb</td>\n",
       "<td>0</td>\n",
       "<td>4</td>\n",
       "<td>128c-4s8mm6cm-20um-40um-sl</td>\n",
       "<td>0</td>\n",
       "<td>4</td>\n",
       "<td>1</td>\n",
       "<td>4</td>\n",
       "<td>1</td>\n",
       "<td>0.0</td>\n",
       "<td>0.0</td>\n",
       "<td>0.0</td>\n",
       "<td>None</td>\n",
       "<td>0.0</td>\n",
       "<td>False</td>\n",
       "<td>0.0</td>\n",
       "<td>0.0</td>\n",
       "<td>0.0</td>\n",
       "<td></td></tr><tr><td>beans20190718_.nwb</td>\n",
       "<td>0</td>\n",
       "<td>5</td>\n",
       "<td>128c-4s8mm6cm-20um-40um-sl</td>\n",
       "<td>0</td>\n",
       "<td>5</td>\n",
       "<td>1</td>\n",
       "<td>5</td>\n",
       "<td>1</td>\n",
       "<td>0.0</td>\n",
       "<td>0.0</td>\n",
       "<td>0.0</td>\n",
       "<td>None</td>\n",
       "<td>0.0</td>\n",
       "<td>False</td>\n",
       "<td>0.0</td>\n",
       "<td>0.0</td>\n",
       "<td>0.0</td>\n",
       "<td></td></tr><tr><td>beans20190718_.nwb</td>\n",
       "<td>0</td>\n",
       "<td>7</td>\n",
       "<td>128c-4s8mm6cm-20um-40um-sl</td>\n",
       "<td>0</td>\n",
       "<td>7</td>\n",
       "<td>1</td>\n",
       "<td>7</td>\n",
       "<td>1</td>\n",
       "<td>0.0</td>\n",
       "<td>0.0</td>\n",
       "<td>0.0</td>\n",
       "<td>None</td>\n",
       "<td>0.0</td>\n",
       "<td>False</td>\n",
       "<td>0.0</td>\n",
       "<td>0.0</td>\n",
       "<td>0.0</td>\n",
       "<td></td></tr><tr><td>beans20190718_.nwb</td>\n",
       "<td>0</td>\n",
       "<td>8</td>\n",
       "<td>128c-4s8mm6cm-20um-40um-sl</td>\n",
       "<td>0</td>\n",
       "<td>8</td>\n",
       "<td>1</td>\n",
       "<td>8</td>\n",
       "<td>1</td>\n",
       "<td>0.0</td>\n",
       "<td>0.0</td>\n",
       "<td>0.0</td>\n",
       "<td>None</td>\n",
       "<td>0.0</td>\n",
       "<td>False</td>\n",
       "<td>0.0</td>\n",
       "<td>0.0</td>\n",
       "<td>0.0</td>\n",
       "<td></td></tr><tr><td>beans20190718_.nwb</td>\n",
       "<td>0</td>\n",
       "<td>9</td>\n",
       "<td>128c-4s8mm6cm-20um-40um-sl</td>\n",
       "<td>0</td>\n",
       "<td>9</td>\n",
       "<td>1</td>\n",
       "<td>9</td>\n",
       "<td>1</td>\n",
       "<td>0.0</td>\n",
       "<td>0.0</td>\n",
       "<td>0.0</td>\n",
       "<td>None</td>\n",
       "<td>0.0</td>\n",
       "<td>False</td>\n",
       "<td>0.0</td>\n",
       "<td>0.0</td>\n",
       "<td>0.0</td>\n",
       "<td></td></tr><tr><td>beans20190718_.nwb</td>\n",
       "<td>0</td>\n",
       "<td>11</td>\n",
       "<td>128c-4s8mm6cm-20um-40um-sl</td>\n",
       "<td>0</td>\n",
       "<td>11</td>\n",
       "<td>1</td>\n",
       "<td>11</td>\n",
       "<td>1</td>\n",
       "<td>0.0</td>\n",
       "<td>0.0</td>\n",
       "<td>0.0</td>\n",
       "<td>None</td>\n",
       "<td>0.0</td>\n",
       "<td>False</td>\n",
       "<td>0.0</td>\n",
       "<td>0.0</td>\n",
       "<td>0.0</td>\n",
       "<td></td></tr><tr><td>beans20190718_.nwb</td>\n",
       "<td>0</td>\n",
       "<td>12</td>\n",
       "<td>128c-4s8mm6cm-20um-40um-sl</td>\n",
       "<td>0</td>\n",
       "<td>12</td>\n",
       "<td>1</td>\n",
       "<td>12</td>\n",
       "<td>1</td>\n",
       "<td>0.0</td>\n",
       "<td>0.0</td>\n",
       "<td>0.0</td>\n",
       "<td>None</td>\n",
       "<td>0.0</td>\n",
       "<td>False</td>\n",
       "<td>0.0</td>\n",
       "<td>0.0</td>\n",
       "<td>0.0</td>\n",
       "<td></td></tr><tr><td>beans20190718_.nwb</td>\n",
       "<td>0</td>\n",
       "<td>13</td>\n",
       "<td>128c-4s8mm6cm-20um-40um-sl</td>\n",
       "<td>0</td>\n",
       "<td>13</td>\n",
       "<td>1</td>\n",
       "<td>13</td>\n",
       "<td>1</td>\n",
       "<td>0.0</td>\n",
       "<td>0.0</td>\n",
       "<td>0.0</td>\n",
       "<td>None</td>\n",
       "<td>0.0</td>\n",
       "<td>False</td>\n",
       "<td>0.0</td>\n",
       "<td>0.0</td>\n",
       "<td>0.0</td>\n",
       "<td></td></tr><tr><td>beans20190718_.nwb</td>\n",
       "<td>0</td>\n",
       "<td>15</td>\n",
       "<td>128c-4s8mm6cm-20um-40um-sl</td>\n",
       "<td>0</td>\n",
       "<td>15</td>\n",
       "<td>1</td>\n",
       "<td>15</td>\n",
       "<td>1</td>\n",
       "<td>0.0</td>\n",
       "<td>0.0</td>\n",
       "<td>0.0</td>\n",
       "<td>None</td>\n",
       "<td>0.0</td>\n",
       "<td>False</td>\n",
       "<td>0.0</td>\n",
       "<td>0.0</td>\n",
       "<td>0.0</td>\n",
       "<td></td> </tr> </tbody>\n",
       "        </table>\n",
       "        <p>...</p>\n",
       "        <p>Total: 192</p></div>\n",
       "        "
      ],
      "text/plain": [
       "*nwb_file_name *electrode_gro *electrode_id  probe_type     probe_shank    probe_electrod region_id     name     original_refer x       y       z       filtering     impedance     bad_channel    x_warped     y_warped     z_warped     contacts    \n",
       "+------------+ +------------+ +------------+ +------------+ +------------+ +------------+ +-----------+ +------+ +------------+ +-----+ +-----+ +-----+ +-----------+ +-----------+ +------------+ +----------+ +----------+ +----------+ +----------+\n",
       "beans20190718_ 0              0              128c-4s8mm6cm- 0              0              1             0        1              0.0     0.0     0.0     None          0.0           False          0.0          0.0          0.0                      \n",
       "beans20190718_ 0              1              128c-4s8mm6cm- 0              1              1             1        1              0.0     0.0     0.0     None          0.0           False          0.0          0.0          0.0                      \n",
       "beans20190718_ 0              3              128c-4s8mm6cm- 0              3              1             3        1              0.0     0.0     0.0     None          0.0           False          0.0          0.0          0.0                      \n",
       "beans20190718_ 0              4              128c-4s8mm6cm- 0              4              1             4        1              0.0     0.0     0.0     None          0.0           False          0.0          0.0          0.0                      \n",
       "beans20190718_ 0              5              128c-4s8mm6cm- 0              5              1             5        1              0.0     0.0     0.0     None          0.0           False          0.0          0.0          0.0                      \n",
       "beans20190718_ 0              7              128c-4s8mm6cm- 0              7              1             7        1              0.0     0.0     0.0     None          0.0           False          0.0          0.0          0.0                      \n",
       "beans20190718_ 0              8              128c-4s8mm6cm- 0              8              1             8        1              0.0     0.0     0.0     None          0.0           False          0.0          0.0          0.0                      \n",
       "beans20190718_ 0              9              128c-4s8mm6cm- 0              9              1             9        1              0.0     0.0     0.0     None          0.0           False          0.0          0.0          0.0                      \n",
       "beans20190718_ 0              11             128c-4s8mm6cm- 0              11             1             11       1              0.0     0.0     0.0     None          0.0           False          0.0          0.0          0.0                      \n",
       "beans20190718_ 0              12             128c-4s8mm6cm- 0              12             1             12       1              0.0     0.0     0.0     None          0.0           False          0.0          0.0          0.0                      \n",
       "beans20190718_ 0              13             128c-4s8mm6cm- 0              13             1             13       1              0.0     0.0     0.0     None          0.0           False          0.0          0.0          0.0                      \n",
       "beans20190718_ 0              15             128c-4s8mm6cm- 0              15             1             15       1              0.0     0.0     0.0     None          0.0           False          0.0          0.0          0.0                      \n",
       "   ...\n",
       " (Total: 192)"
      ]
     },
     "execution_count": 4,
     "metadata": {},
     "output_type": "execute_result"
    }
   ],
   "source": [
    "nd.insert_sessions('montague20200802_tutorial.nwb')\n",
    "nwb_file_name = 'montague20200802_tutorial_.nwb'"
   ]
  },
  {
   "cell_type": "markdown",
   "metadata": {},
   "source": [
    "### **NOTE**: This is a common file for this tutorial, table entries may change during use if others are also working through."
   ]
  },
  {
   "cell_type": "markdown",
   "metadata": {},
   "source": [
    "<a id='section1'></a>"
   ]
  },
  {
   "cell_type": "markdown",
   "metadata": {},
   "source": [
    "### Extracting the recording from the NWB file"
   ]
  },
  {
   "cell_type": "markdown",
   "metadata": {},
   "source": [
    "### `SortGroup`\n",
    "For each NWB file there will be multiple electrodes available to sort spikes from.<br>We commonly sort over multiple electrodes at a time, also referred to as a `SortGroup`.<br>This is accomplished by grouping electrodes according to what tetrode or shank of a probe they were on.<br>**NOTE**: answer 'yes' when prompted"
   ]
  },
  {
   "cell_type": "code",
   "execution_count": 6,
   "metadata": {},
   "outputs": [
    {
     "data": {
      "text/plain": [
       "array([0, 1, 2, 3])"
      ]
     },
     "execution_count": 6,
     "metadata": {},
     "output_type": "execute_result"
    }
   ],
   "source": [
    "# answer 'yes' when prompted\n",
    "SortGroup().set_group_by_shank(nwb_file_name)"
   ]
  },
  {
   "cell_type": "markdown",
   "metadata": {},
   "source": [
    "Each electrode will have an `electrode_id` and be associated with an `electrode_group_name`, which will correspond with a `sort_group_id`. In this case, the data was recorded from a 32 tetrode (128 channel) drive, and thus results in 128 unique `electrode_id`, 32 unique `electrode_group_name`, and 32 unique `sort_group_id`. "
   ]
  },
  {
   "cell_type": "code",
   "execution_count": null,
   "metadata": {},
   "outputs": [],
   "source": [
    "SortGroup.SortGroupElectrode & {'nwb_file_name': nwb_file_name}"
   ]
  },
  {
   "cell_type": "markdown",
   "metadata": {
    "tags": []
   },
   "source": [
    "### `IntervalList`\n",
    "Next, we make a decision about the time interval for our spike sorting. Let's re-examine `IntervalList`."
   ]
  },
  {
   "cell_type": "code",
   "execution_count": 7,
   "metadata": {
    "tags": []
   },
   "outputs": [
    {
     "name": "stdout",
     "output_type": "stream",
     "text": [
      "Deleting 0 rows from `common_spikesorting`.`sort_group`\n",
      "Nothing to delete.\n"
     ]
    }
   ],
   "source": [
    "IntervalList & {'nwb_file_name' : nwb_file_name}"
   ]
  },
  {
   "cell_type": "markdown",
   "metadata": {},
   "source": [
    "For our example, let's choose to start with the first run interval (`02_r1`) as our sort interval. We first fetch `valid_times` for this interval."
   ]
  },
  {
   "cell_type": "code",
   "execution_count": 8,
   "metadata": {},
   "outputs": [
    {
     "data": {
      "text/html": [
       "\n",
       "    \n",
       "    <style type=\"text/css\">\n",
       "        .Relation{\n",
       "            border-collapse:collapse;\n",
       "        }\n",
       "        .Relation th{\n",
       "            background: #A0A0A0; color: #ffffff; padding:4px; border:#f0e0e0 1px solid;\n",
       "            font-weight: normal; font-family: monospace; font-size: 100%;\n",
       "        }\n",
       "        .Relation td{\n",
       "            padding:4px; border:#f0e0e0 1px solid; font-size:100%;\n",
       "        }\n",
       "        .Relation tr:nth-child(odd){\n",
       "            background: #ffffff;\n",
       "        }\n",
       "        .Relation tr:nth-child(even){\n",
       "            background: #f3f1ff;\n",
       "        }\n",
       "        /* Tooltip container */\n",
       "        .djtooltip {\n",
       "        }\n",
       "        /* Tooltip text */\n",
       "        .djtooltip .djtooltiptext {\n",
       "            visibility: hidden;\n",
       "            width: 120px;\n",
       "            background-color: black;\n",
       "            color: #fff;\n",
       "            text-align: center;\n",
       "            padding: 5px 0;\n",
       "            border-radius: 6px;\n",
       "            /* Position the tooltip text - see examples below! */\n",
       "            position: absolute;\n",
       "            z-index: 1;\n",
       "        }\n",
       "        #primary {\n",
       "            font-weight: bold;\n",
       "            color: black;\n",
       "        }\n",
       "        #nonprimary {\n",
       "            font-weight: normal;\n",
       "            color: white;\n",
       "        }\n",
       "\n",
       "        /* Show the tooltip text when you mouse over the tooltip container */\n",
       "        .djtooltip:hover .djtooltiptext {\n",
       "            visibility: visible;\n",
       "        }\n",
       "    </style>\n",
       "    \n",
       "    <b>Table for holding the set of electrodes that will be sorted together</b>\n",
       "        <div style=\"max-height:1000px;max-width:1500px;overflow:auto;\">\n",
       "        <table border=\"1\" class=\"Relation\">\n",
       "            <thead> <tr style=\"text-align: right;\"> <th> <div class=\"djtooltip\">\n",
       "                            <p id=\"primary\">nwb_file_name</p>\n",
       "                            <span class=\"djtooltiptext\">name of the NWB file</span>\n",
       "                        </div></th><th><div class=\"djtooltip\">\n",
       "                            <p id=\"primary\">sort_group_id</p>\n",
       "                            <span class=\"djtooltiptext\">identifier for a group of electrodes</span>\n",
       "                        </div></th><th><div class=\"djtooltip\">\n",
       "                            <p id=\"nonprimary\">sort_reference_electrode_id</p>\n",
       "                            <span class=\"djtooltiptext\">the electrode to use for reference. -1: no reference, -2: common median</span>\n",
       "                        </div> </th> </tr> </thead>\n",
       "            <tbody> <tr> <td>beans20190718_.nwb</td>\n",
       "<td>0</td>\n",
       "<td>1</td></tr><tr><td>beans20190718_.nwb</td>\n",
       "<td>1</td>\n",
       "<td>1</td></tr><tr><td>beans20190718_.nwb</td>\n",
       "<td>2</td>\n",
       "<td>1</td></tr><tr><td>beans20190718_.nwb</td>\n",
       "<td>3</td>\n",
       "<td>1</td></tr><tr><td>beans20190718_.nwb</td>\n",
       "<td>4</td>\n",
       "<td>1</td></tr><tr><td>beans20190718_.nwb</td>\n",
       "<td>5</td>\n",
       "<td>1</td></tr><tr><td>beans20190718_.nwb</td>\n",
       "<td>6</td>\n",
       "<td>1</td></tr><tr><td>beans20190718_.nwb</td>\n",
       "<td>7</td>\n",
       "<td>1</td> </tr> </tbody>\n",
       "        </table>\n",
       "        \n",
       "        <p>Total: 8</p></div>\n",
       "        "
      ],
      "text/plain": [
       "*nwb_file_name *sort_group_id sort_reference\n",
       "+------------+ +------------+ +------------+\n",
       "beans20190718_ 0              1             \n",
       "beans20190718_ 1              1             \n",
       "beans20190718_ 2              1             \n",
       "beans20190718_ 3              1             \n",
       "beans20190718_ 4              1             \n",
       "beans20190718_ 5              1             \n",
       "beans20190718_ 6              1             \n",
       "beans20190718_ 7              1             \n",
       " (Total: 8)"
      ]
     },
     "execution_count": 8,
     "metadata": {},
     "output_type": "execute_result"
    }
   ],
   "source": [
    "interval_list_name = '02_r1'\n",
    "interval_list = (IntervalList & {'nwb_file_name' : nwb_file_name,\n",
    "                            'interval_list_name' : interval_list_name}).fetch1('valid_times')\n",
    "print(f'IntervalList begins as a {np.round((interval_list[0][1] - interval_list[0][0]) / 60,0):g} min long epoch')"
   ]
  },
  {
   "cell_type": "markdown",
   "metadata": {},
   "source": [
    "### `SortInterval`\n",
    "For brevity's sake, we'll select only the first 180 seconds of that 90 minute epoch as our sort interval. To do so, we define our new sort interval as the start time of `interval_list` from the previous cell, plus 180 seconds."
   ]
  },
  {
   "cell_type": "code",
   "execution_count": 9,
   "metadata": {},
   "outputs": [
    {
     "data": {
      "text/html": [
       "\n",
       "    \n",
       "    <style type=\"text/css\">\n",
       "        .Relation{\n",
       "            border-collapse:collapse;\n",
       "        }\n",
       "        .Relation th{\n",
       "            background: #A0A0A0; color: #ffffff; padding:4px; border:#f0e0e0 1px solid;\n",
       "            font-weight: normal; font-family: monospace; font-size: 100%;\n",
       "        }\n",
       "        .Relation td{\n",
       "            padding:4px; border:#f0e0e0 1px solid; font-size:100%;\n",
       "        }\n",
       "        .Relation tr:nth-child(odd){\n",
       "            background: #ffffff;\n",
       "        }\n",
       "        .Relation tr:nth-child(even){\n",
       "            background: #f3f1ff;\n",
       "        }\n",
       "        /* Tooltip container */\n",
       "        .djtooltip {\n",
       "        }\n",
       "        /* Tooltip text */\n",
       "        .djtooltip .djtooltiptext {\n",
       "            visibility: hidden;\n",
       "            width: 120px;\n",
       "            background-color: black;\n",
       "            color: #fff;\n",
       "            text-align: center;\n",
       "            padding: 5px 0;\n",
       "            border-radius: 6px;\n",
       "            /* Position the tooltip text - see examples below! */\n",
       "            position: absolute;\n",
       "            z-index: 1;\n",
       "        }\n",
       "        #primary {\n",
       "            font-weight: bold;\n",
       "            color: black;\n",
       "        }\n",
       "        #nonprimary {\n",
       "            font-weight: normal;\n",
       "            color: white;\n",
       "        }\n",
       "\n",
       "        /* Show the tooltip text when you mouse over the tooltip container */\n",
       "        .djtooltip:hover .djtooltiptext {\n",
       "            visibility: visible;\n",
       "        }\n",
       "    </style>\n",
       "    \n",
       "    <b></b>\n",
       "        <div style=\"max-height:1000px;max-width:1500px;overflow:auto;\">\n",
       "        <table border=\"1\" class=\"Relation\">\n",
       "            <thead> <tr style=\"text-align: right;\"> <th> <div class=\"djtooltip\">\n",
       "                            <p id=\"primary\">nwb_file_name</p>\n",
       "                            <span class=\"djtooltiptext\">name of the NWB file</span>\n",
       "                        </div></th><th><div class=\"djtooltip\">\n",
       "                            <p id=\"primary\">sort_group_id</p>\n",
       "                            <span class=\"djtooltiptext\">identifier for a group of electrodes</span>\n",
       "                        </div></th><th><div class=\"djtooltip\">\n",
       "                            <p id=\"primary\">electrode_group_name</p>\n",
       "                            <span class=\"djtooltiptext\">electrode group name from NWBFile</span>\n",
       "                        </div></th><th><div class=\"djtooltip\">\n",
       "                            <p id=\"primary\">electrode_id</p>\n",
       "                            <span class=\"djtooltiptext\">the unique number for this electrode</span>\n",
       "                        </div> </th> </tr> </thead>\n",
       "            <tbody> <tr> <td>beans20190718_.nwb</td>\n",
       "<td>0</td>\n",
       "<td>0</td>\n",
       "<td>0</td></tr><tr><td>beans20190718_.nwb</td>\n",
       "<td>0</td>\n",
       "<td>0</td>\n",
       "<td>1</td></tr><tr><td>beans20190718_.nwb</td>\n",
       "<td>0</td>\n",
       "<td>0</td>\n",
       "<td>3</td></tr><tr><td>beans20190718_.nwb</td>\n",
       "<td>0</td>\n",
       "<td>0</td>\n",
       "<td>4</td></tr><tr><td>beans20190718_.nwb</td>\n",
       "<td>0</td>\n",
       "<td>0</td>\n",
       "<td>5</td></tr><tr><td>beans20190718_.nwb</td>\n",
       "<td>0</td>\n",
       "<td>0</td>\n",
       "<td>7</td></tr><tr><td>beans20190718_.nwb</td>\n",
       "<td>0</td>\n",
       "<td>0</td>\n",
       "<td>8</td></tr><tr><td>beans20190718_.nwb</td>\n",
       "<td>0</td>\n",
       "<td>0</td>\n",
       "<td>9</td></tr><tr><td>beans20190718_.nwb</td>\n",
       "<td>0</td>\n",
       "<td>0</td>\n",
       "<td>11</td></tr><tr><td>beans20190718_.nwb</td>\n",
       "<td>0</td>\n",
       "<td>0</td>\n",
       "<td>12</td></tr><tr><td>beans20190718_.nwb</td>\n",
       "<td>0</td>\n",
       "<td>0</td>\n",
       "<td>13</td></tr><tr><td>beans20190718_.nwb</td>\n",
       "<td>0</td>\n",
       "<td>0</td>\n",
       "<td>15</td> </tr> </tbody>\n",
       "        </table>\n",
       "        <p>...</p>\n",
       "        <p>Total: 192</p></div>\n",
       "        "
      ],
      "text/plain": [
       "*nwb_file_name *sort_group_id *electrode_gro *electrode_id \n",
       "+------------+ +------------+ +------------+ +------------+\n",
       "beans20190718_ 0              0              0             \n",
       "beans20190718_ 0              0              1             \n",
       "beans20190718_ 0              0              3             \n",
       "beans20190718_ 0              0              4             \n",
       "beans20190718_ 0              0              5             \n",
       "beans20190718_ 0              0              7             \n",
       "beans20190718_ 0              0              8             \n",
       "beans20190718_ 0              0              9             \n",
       "beans20190718_ 0              0              11            \n",
       "beans20190718_ 0              0              12            \n",
       "beans20190718_ 0              0              13            \n",
       "beans20190718_ 0              0              15            \n",
       "   ...\n",
       " (Total: 192)"
      ]
     },
     "execution_count": 9,
     "metadata": {},
     "output_type": "execute_result"
    }
   ],
   "source": [
    "sort_interval = interval_list[0]\n",
    "sort_interval_name = interval_list_name + '_first180'\n",
    "sort_interval = np.copy(interval_list[0]) \n",
    "sort_interval[1] = sort_interval[0]+180"
   ]
  },
  {
   "cell_type": "markdown",
   "metadata": {},
   "source": [
    "We can now add this `sort_interval` with the specified `sort_interval_name` `'02_r1_first180'` to the `SortInterval` table. The `SortInterval.insert()` function requires the arguments input as a dictionary with keys `nwb_file_name`, `sort_interval_name`, and `sort_interval`."
   ]
  },
  {
   "cell_type": "code",
   "execution_count": 10,
   "metadata": {},
   "outputs": [],
   "source": [
    "SortInterval.insert1({'nwb_file_name' : nwb_file_name,\n",
    "                     'sort_interval_name' : sort_interval_name,\n",
    "                     'sort_interval' : sort_interval}, skip_duplicates=True)"
   ]
  },
  {
   "cell_type": "markdown",
   "metadata": {},
   "source": [
    "Now that we've inserted the entry into `SortInterval` you can see that entry by querying `SortInterval` using the `nwb_file_name` and `sort_interval_name`. "
   ]
  },
  {
   "cell_type": "code",
   "execution_count": 12,
   "metadata": {},
   "outputs": [
    {
     "data": {
      "text/html": [
       "\n",
       "    \n",
       "    <style type=\"text/css\">\n",
       "        .Relation{\n",
       "            border-collapse:collapse;\n",
       "        }\n",
       "        .Relation th{\n",
       "            background: #A0A0A0; color: #ffffff; padding:4px; border:#f0e0e0 1px solid;\n",
       "            font-weight: normal; font-family: monospace; font-size: 100%;\n",
       "        }\n",
       "        .Relation td{\n",
       "            padding:4px; border:#f0e0e0 1px solid; font-size:100%;\n",
       "        }\n",
       "        .Relation tr:nth-child(odd){\n",
       "            background: #ffffff;\n",
       "        }\n",
       "        .Relation tr:nth-child(even){\n",
       "            background: #f3f1ff;\n",
       "        }\n",
       "        /* Tooltip container */\n",
       "        .djtooltip {\n",
       "        }\n",
       "        /* Tooltip text */\n",
       "        .djtooltip .djtooltiptext {\n",
       "            visibility: hidden;\n",
       "            width: 120px;\n",
       "            background-color: black;\n",
       "            color: #fff;\n",
       "            text-align: center;\n",
       "            padding: 5px 0;\n",
       "            border-radius: 6px;\n",
       "            /* Position the tooltip text - see examples below! */\n",
       "            position: absolute;\n",
       "            z-index: 1;\n",
       "        }\n",
       "        #primary {\n",
       "            font-weight: bold;\n",
       "            color: black;\n",
       "        }\n",
       "        #nonprimary {\n",
       "            font-weight: normal;\n",
       "            color: white;\n",
       "        }\n",
       "\n",
       "        /* Show the tooltip text when you mouse over the tooltip container */\n",
       "        .djtooltip:hover .djtooltiptext {\n",
       "            visibility: visible;\n",
       "        }\n",
       "    </style>\n",
       "    \n",
       "    <b>Table for holding the set of electrodes that will be sorted together</b>\n",
       "        <div style=\"max-height:1000px;max-width:1500px;overflow:auto;\">\n",
       "        <table border=\"1\" class=\"Relation\">\n",
       "            <thead> <tr style=\"text-align: right;\"> <th> <div class=\"djtooltip\">\n",
       "                            <p id=\"primary\">nwb_file_name</p>\n",
       "                            <span class=\"djtooltiptext\">name of the NWB file</span>\n",
       "                        </div></th><th><div class=\"djtooltip\">\n",
       "                            <p id=\"primary\">sort_group_id</p>\n",
       "                            <span class=\"djtooltiptext\">identifier for a group of electrodes</span>\n",
       "                        </div></th><th><div class=\"djtooltip\">\n",
       "                            <p id=\"nonprimary\">sort_reference_electrode_id</p>\n",
       "                            <span class=\"djtooltiptext\">the electrode to use for reference. -1: no reference, -2: common median</span>\n",
       "                        </div> </th> </tr> </thead>\n",
       "            <tbody> <tr> <td>beans20190718_.nwb</td>\n",
       "<td>8</td>\n",
       "<td>-1</td> </tr> </tbody>\n",
       "        </table>\n",
       "        \n",
       "        <p>Total: 1</p></div>\n",
       "        "
      ],
      "text/plain": [
       "*nwb_file_name *sort_group_id sort_reference\n",
       "+------------+ +------------+ +------------+\n",
       "beans20190718_ 8              -1            \n",
       " (Total: 1)"
      ]
     },
     "execution_count": 12,
     "metadata": {},
     "output_type": "execute_result"
    }
   ],
   "source": [
    "SortInterval & {'nwb_file_name' : nwb_file_name, 'sort_interval_name': sort_interval_name}"
   ]
  },
  {
   "cell_type": "markdown",
   "metadata": {},
   "source": [
    "Now using the `.fetch()` command, you can retrieve your user-defined sort interval from the `SortInterval` table.<br>A quick double-check will show that it is indeed a 180 second segment."
   ]
  },
  {
   "cell_type": "code",
   "execution_count": 14,
   "metadata": {},
   "outputs": [
    {
     "data": {
      "text/html": [
       "\n",
       "    \n",
       "    <style type=\"text/css\">\n",
       "        .Relation{\n",
       "            border-collapse:collapse;\n",
       "        }\n",
       "        .Relation th{\n",
       "            background: #A0A0A0; color: #ffffff; padding:4px; border:#f0e0e0 1px solid;\n",
       "            font-weight: normal; font-family: monospace; font-size: 100%;\n",
       "        }\n",
       "        .Relation td{\n",
       "            padding:4px; border:#f0e0e0 1px solid; font-size:100%;\n",
       "        }\n",
       "        .Relation tr:nth-child(odd){\n",
       "            background: #ffffff;\n",
       "        }\n",
       "        .Relation tr:nth-child(even){\n",
       "            background: #f3f1ff;\n",
       "        }\n",
       "        /* Tooltip container */\n",
       "        .djtooltip {\n",
       "        }\n",
       "        /* Tooltip text */\n",
       "        .djtooltip .djtooltiptext {\n",
       "            visibility: hidden;\n",
       "            width: 120px;\n",
       "            background-color: black;\n",
       "            color: #fff;\n",
       "            text-align: center;\n",
       "            padding: 5px 0;\n",
       "            border-radius: 6px;\n",
       "            /* Position the tooltip text - see examples below! */\n",
       "            position: absolute;\n",
       "            z-index: 1;\n",
       "        }\n",
       "        #primary {\n",
       "            font-weight: bold;\n",
       "            color: black;\n",
       "        }\n",
       "        #nonprimary {\n",
       "            font-weight: normal;\n",
       "            color: white;\n",
       "        }\n",
       "\n",
       "        /* Show the tooltip text when you mouse over the tooltip container */\n",
       "        .djtooltip:hover .djtooltiptext {\n",
       "            visibility: visible;\n",
       "        }\n",
       "    </style>\n",
       "    \n",
       "    <b>Time intervals with data</b>\n",
       "        <div style=\"max-height:1000px;max-width:1500px;overflow:auto;\">\n",
       "        <table border=\"1\" class=\"Relation\">\n",
       "            <thead> <tr style=\"text-align: right;\"> <th> <div class=\"djtooltip\">\n",
       "                            <p id=\"primary\">nwb_file_name</p>\n",
       "                            <span class=\"djtooltiptext\">name of the NWB file</span>\n",
       "                        </div></th><th><div class=\"djtooltip\">\n",
       "                            <p id=\"primary\">interval_list_name</p>\n",
       "                            <span class=\"djtooltiptext\">descriptive name of this interval list</span>\n",
       "                        </div></th><th><div class=\"djtooltip\">\n",
       "                            <p id=\"nonprimary\">valid_times</p>\n",
       "                            <span class=\"djtooltiptext\">numpy array with start and end times for each interval</span>\n",
       "                        </div> </th> </tr> </thead>\n",
       "            <tbody> <tr> <td>beans20190718_.nwb</td>\n",
       "<td>01_s1</td>\n",
       "<td>=BLOB=</td></tr><tr><td>beans20190718_.nwb</td>\n",
       "<td>02_r1</td>\n",
       "<td>=BLOB=</td></tr><tr><td>beans20190718_.nwb</td>\n",
       "<td>03_s2</td>\n",
       "<td>=BLOB=</td></tr><tr><td>beans20190718_.nwb</td>\n",
       "<td>04_r2</td>\n",
       "<td>=BLOB=</td></tr><tr><td>beans20190718_.nwb</td>\n",
       "<td>pos 0 valid times</td>\n",
       "<td>=BLOB=</td></tr><tr><td>beans20190718_.nwb</td>\n",
       "<td>pos 1 valid times</td>\n",
       "<td>=BLOB=</td></tr><tr><td>beans20190718_.nwb</td>\n",
       "<td>pos 2 valid times</td>\n",
       "<td>=BLOB=</td></tr><tr><td>beans20190718_.nwb</td>\n",
       "<td>pos 3 valid times</td>\n",
       "<td>=BLOB=</td></tr><tr><td>beans20190718_.nwb</td>\n",
       "<td>raw data valid times</td>\n",
       "<td>=BLOB=</td> </tr> </tbody>\n",
       "        </table>\n",
       "        \n",
       "        <p>Total: 9</p></div>\n",
       "        "
      ],
      "text/plain": [
       "*nwb_file_name *interval_list valid_time\n",
       "+------------+ +------------+ +--------+\n",
       "beans20190718_ 01_s1          =BLOB=    \n",
       "beans20190718_ 02_r1          =BLOB=    \n",
       "beans20190718_ 03_s2          =BLOB=    \n",
       "beans20190718_ 04_r2          =BLOB=    \n",
       "beans20190718_ pos 0 valid ti =BLOB=    \n",
       "beans20190718_ pos 1 valid ti =BLOB=    \n",
       "beans20190718_ pos 2 valid ti =BLOB=    \n",
       "beans20190718_ pos 3 valid ti =BLOB=    \n",
       "beans20190718_ raw data valid =BLOB=    \n",
       " (Total: 9)"
      ]
     },
     "execution_count": 14,
     "metadata": {},
     "output_type": "execute_result"
    }
   ],
   "source": [
    "fetched_sort_interval = (SortInterval & {'nwb_file_name' : nwb_file_name,\n",
    "                                      'sort_interval_name': sort_interval_name}).fetch1('sort_interval')\n",
    "print(f'The sort interval goes from {fetched_sort_interval[0]} to {fetched_sort_interval[1]}, \\\n",
    "which is {(fetched_sort_interval[1] - fetched_sort_interval[0])} seconds. COOL!')"
   ]
  },
  {
   "cell_type": "markdown",
   "metadata": {},
   "source": [
    "### `SpikeSortingFilterParameters`\n",
    "Let's first take a look at the `SpikeSortingFilterParameters` table, which contains the parameters used to filter the recorded data in the spike band prior to spike sorting it."
   ]
  },
  {
   "cell_type": "code",
   "execution_count": 15,
   "metadata": {},
   "outputs": [],
   "source": [
    "SpikeSortingFilterParameters()"
   ]
  },
  {
   "cell_type": "markdown",
   "metadata": {},
   "source": [
    "Now let's set the filtering parameters. Here we insert the default parameters, and then fetch the default parameter dictionary."
   ]
  },
  {
   "cell_type": "code",
   "execution_count": 17,
   "metadata": {},
   "outputs": [
    {
     "name": "stdout",
     "output_type": "stream",
     "text": [
      "[1.56349064e+09 1.56349065e+09]\n"
     ]
    }
   ],
   "source": [
    "SpikeSortingFilterParameters().insert_default()\n",
    "filter_param_dict = (SpikeSortingFilterParameters() &\n",
    "                     {'filter_parameter_set_name': 'default'}).fetch1('filter_parameter_dict')\n",
    "print(filter_param_dict)"
   ]
  },
  {
   "cell_type": "markdown",
   "metadata": {},
   "source": [
    "Lets first adjust the `frequency_min` parameter to 600, which is the preference for hippocampal data. Now we can insert that into `SpikeSortingFilterParameters` as a new set of filtering parameters for hippocampal data, named `'franklab_default_hippocampus'`."
   ]
  },
  {
   "cell_type": "code",
   "execution_count": 19,
   "metadata": {},
   "outputs": [],
   "source": [
    "filter_param_dict['frequency_min'] = 600\n",
    "SpikeSortingFilterParameters().insert1({'filter_parameter_set_name': 'franklab_default_hippocampus', \n",
    "                                       'filter_parameter_dict' : filter_param_dict}, skip_duplicates=True)"
   ]
  },
  {
   "cell_type": "markdown",
   "metadata": {},
   "source": [
    "### `SpikeSortingArtifactParameters`\n",
    "Similarly, we set up the `SpikeSortingArtifactParameters`, which can allow us to remove artifacts from the data.<br>Specifically, we want to target artifact signal that is within the frequency band of our filter (600Hz-6KHz), and thus will not get removed by filtering.<br>For the moment we just set up a `\"none\"` parameter set, which will do nothing when used."
   ]
  },
  {
   "cell_type": "code",
   "execution_count": 20,
   "metadata": {},
   "outputs": [],
   "source": [
    "SpikeSortingArtifactDetectionParameters().insert_default()"
   ]
  },
  {
   "cell_type": "markdown",
   "metadata": {},
   "source": [
    "#### Setting a key\n",
    "Now we set up the parameters of the recording we are interested in, and make a dictionary to hold all these values, which will make querying and inserting into tables all the easier moving forward.<br>We'll assign this to `ssr_key` as these values are relvant to the recording we'll use to spike sort, also referred to as the spike sorting recording **(ssr)** :-)<br>The `sort_group_id` refers back to the `SortGroup` table we populated at the beginning of the tutorial. We'll use `sort_group_id` 10 here. <br>Our `sort_interval_name` is the same as above: `'02_r1_first600'`.<br>Our `filter_param_name` and `artifact_param_name` are the same ones we just inserted into `SpikeSortingFilterParameters` and `SpikeSortingArtifactDetectionParameters`, respectively.<br>The `interval_list` was also set above as `'02_r1'`. Unlike `sort_interval_name`, which reflects our subsection of the recording, we keep `interval_list` unchanged from the original epoch name."
   ]
  },
  {
   "cell_type": "code",
   "execution_count": 22,
   "metadata": {},
   "outputs": [],
   "source": [
    "key = dict()\n",
    "key['nwb_file_name'] = nwb_file_name\n",
    "key['sort_group_id'] = 10\n",
    "key['sort_interval_name'] = '02_r1_first180'\n",
    "key['filter_parameter_set_name'] = 'franklab_default_hippocampus'\n",
    "key['artifact_parameter_name'] = 'none'\n",
    "key['interval_list_name'] = '02_r1'\n",
    "key['team_name'] = 'LorenLab'\n",
    "\n",
    "ssr_key = key"
   ]
  },
  {
   "cell_type": "markdown",
   "metadata": {},
   "source": [
    "### `SpikeSortingRecordingSelection`\n",
    "We now insert all of these parameters into the `SpikeSortingRecordingSelection` table, which we will use to specify what time/tetrode/etc of the recording we want to extract."
   ]
  },
  {
   "cell_type": "code",
   "execution_count": 24,
   "metadata": {},
   "outputs": [],
   "source": [
    "SpikeSortingRecordingSelection.insert1(ssr_key, skip_duplicates=True)\n",
    "SpikeSortingRecordingSelection() & ssr_key"
   ]
  },
  {
   "cell_type": "markdown",
   "metadata": {},
   "source": [
    "### `SpikeSortingRecording`\n",
    "And now we're ready to extract the recording! We use the `.proj()` command to pass along all of the primary keys from the `SpikeSortingRecordingSelection` table to the `SpikeSortingRecording` table, so it knows exactly what to extract.<br>**Note**: This step might take a bit with longer duration sort intervals"
   ]
  },
  {
   "cell_type": "code",
   "execution_count": null,
   "metadata": {},
   "outputs": [],
   "source": [
    "SpikeSortingRecording.populate([(SpikeSortingRecordingSelection & ssr_key).proj()])"
   ]
  },
  {
   "cell_type": "markdown",
   "metadata": {},
   "source": [
    "#### Now we can see our recording in the table. _E x c i t i n g !_"
   ]
  },
  {
   "cell_type": "code",
   "execution_count": null,
   "metadata": {},
   "outputs": [],
   "source": [
    "SpikeSortingRecording() & ssr_key"
   ]
  },
  {
   "cell_type": "markdown",
   "metadata": {},
   "source": [
    "### `SpikeSortingWorkspace`\n",
    "Now we need to populate the `SpikeSortingWorkspace` table to make this recording available via kachery (our server backend)."
   ]
  },
  {
   "cell_type": "code",
   "execution_count": null,
   "metadata": {
    "tags": []
   },
   "outputs": [],
   "source": [
    "SpikeSortingWorkspace.populate()"
   ]
  },
  {
   "cell_type": "code",
   "execution_count": null,
   "metadata": {},
   "outputs": [],
   "source": [
    "SpikeSortingWorkspace() & ssr_key"
   ]
  },
  {
   "cell_type": "markdown",
   "metadata": {},
   "source": [
    "<a id='section2'></a>"
   ]
  },
  {
   "cell_type": "markdown",
   "metadata": {},
   "source": [
    "### Spike sorting the extracted recording"
   ]
  },
  {
   "cell_type": "markdown",
   "metadata": {},
   "source": [
    "### `SpikeSorter`\n",
    "For our example, we will be using `mountainsort4`. There are already some default parameters in the `SpikeSorterParameters` table we'll `fetch`. "
   ]
  },
  {
   "cell_type": "code",
   "execution_count": null,
   "metadata": {
    "jupyter": {
     "source_hidden": true
    },
    "tags": []
   },
   "outputs": [],
   "source": [
    "SpikeSorter().insert_from_spikeinterface()\n",
    "SpikeSorterParameters().insert_from_spikeinterface()"
   ]
  },
  {
   "cell_type": "code",
   "execution_count": 31,
   "metadata": {},
   "outputs": [],
   "source": [
    "# Let's look at the default params\n",
    "sorter_name='mountainsort4'\n",
    "ms4_default_params = (SpikeSorterParameters & {'sorter_name' : sorter_name,\n",
    "                                               'spikesorter_parameter_set_name' : 'default'}).fetch1()\n",
    "print(ms4_default_params)"
   ]
  },
  {
   "cell_type": "markdown",
   "metadata": {},
   "source": [
    "Now we can change these default parameters to line up more closely with our preferences. "
   ]
  },
  {
   "cell_type": "code",
   "execution_count": null,
   "metadata": {
    "tags": []
   },
   "outputs": [],
   "source": [
    "param_dict = ms4_default_params['parameter_dict']\n",
    "# Detect downward going spikes (1 is for upward, 0 is for both up and down)\n",
    "param_dict['detect_sign'] = -1 \n",
    "# We will sort electrodes together that are within 100 microns of each other\n",
    "param_dict['adjacency_radius'] = 100\n",
    "param_dict['curation'] = False\n",
    "# Turn filter off since we will filter it prior to starting sort\n",
    "param_dict['filter'] = False\n",
    "param_dict['freq_min'] = 0\n",
    "param_dict['freq_max'] = 0\n",
    "# Turn whiten off since we will whiten it prior to starting sort\n",
    "param_dict['whiten'] = False\n",
    "# set num_workers to be the same number as the number of electrodes\n",
    "param_dict['num_workers'] = 4\n",
    "param_dict['verbose'] = True\n",
    "# set clip size as number of samples for 1.33 millisecond based on the sampling rate\n",
    "param_dict['clip_size'] = np.int(1.33e-3 * (Raw & {'nwb_file_name' : nwb_file_name}).fetch1('sampling_rate'))\n",
    "param_dict['noise_overlap_threshold'] = 0\n",
    "param_dict"
   ]
  },
  {
   "cell_type": "markdown",
   "metadata": {},
   "source": [
    "### `SpikeSorterParameters`\n",
    "Let's go ahead and insert a new `spikesorter_parameter_set_name` and `parameter_dict` into the `SpikeSorterParameters` table named `franklab_hippocampus_tutorial`. "
   ]
  },
  {
   "cell_type": "code",
   "execution_count": null,
   "metadata": {
    "tags": []
   },
   "outputs": [],
   "source": [
    "parameter_set_name = 'franklab_hippocampus_tutorial'"
   ]
  },
  {
   "cell_type": "markdown",
   "metadata": {},
   "source": [
    "Now we insert our parameters for use by the spike sorter into `SpikeSorterParameters` and double-check that it made it in to the table. "
   ]
  },
  {
   "cell_type": "code",
   "execution_count": null,
   "metadata": {
    "tags": []
   },
   "outputs": [],
   "source": [
    "SpikeSorterParameters.insert1({'sorter_name': sorter_name,\n",
    "                               'spikesorter_parameter_set_name': parameter_set_name,\n",
    "                               'parameter_dict': param_dict}, skip_duplicates=True)\n",
    "# Check that insert was successful\n",
    "p = (SpikeSorterParameters & {'sorter_name': sorter_name, 'spikesorter_parameter_set_name': parameter_set_name}).fetch1()\n",
    "p"
   ]
  },
  {
   "cell_type": "markdown",
   "metadata": {},
   "source": [
    "### `SpikeSortingSelection`\n",
    "##### Gearing up to Spike Sort!\n",
    "We now collect all the decisions we made up to here and put it into the `SpikeSortingSelection` table, which is specific to this recording and eventual sorting segment.<br>We'll add in a few parameters to our key and call it `ss_key`.<br>(**note**: the spike *sorter* parameters defined above are for the sorter, `mountainsort4` in this case.)"
   ]
  },
  {
   "cell_type": "code",
   "execution_count": 33,
   "metadata": {},
   "outputs": [],
   "source": [
    "key = (SpikeSortingWorkspace & ssr_key).fetch1(\"KEY\")\n",
    "key['sorter_name'] = sorter_name\n",
    "key['spikesorter_parameter_set_name'] = parameter_set_name\n",
    "ss_key = key\n",
    "SpikeSortingSelection.insert1(ss_key, skip_duplicates=True)\n",
    "(SpikeSortingSelection & ss_key)"
   ]
  },
  {
   "cell_type": "markdown",
   "metadata": {},
   "source": [
    "### `SpikeSorting`\n",
    "Now we can run spike sorting. It's nothing more than populating a table (`SpikeSorting`) based on the entries of `SpikeSortingSelection`.<br>**Note**: This will take a little bit with longer data sets."
   ]
  },
  {
   "cell_type": "code",
   "execution_count": null,
   "metadata": {
    "tags": []
   },
   "outputs": [],
   "source": [
    "SpikeSorting.populate([(SpikeSortingSelection & ss_key).proj()])"
   ]
  },
  {
   "cell_type": "markdown",
   "metadata": {},
   "source": [
    "#### Check to make sure the table populated"
   ]
  },
  {
   "cell_type": "code",
   "execution_count": 35,
   "metadata": {},
   "outputs": [],
   "source": [
    "SpikeSorting() & ss_key"
   ]
  },
  {
   "cell_type": "markdown",
   "metadata": {},
   "source": [
    "### Revisiting `SpikeSortingWorkspace`\n",
    "To peform manual curation, we use the `figurl` interface.<br>`figurl` will load more quickly if we run `SpikeSortingWorkspace().precalculate()` beforehand."
   ]
  },
  {
   "cell_type": "code",
   "execution_count": 36,
   "metadata": {},
   "outputs": [],
   "source": [
    "SpikeSortingWorkspace().precalculate(ssr_key)"
   ]
  },
  {
   "cell_type": "markdown",
   "metadata": {},
   "source": [
    "Here we'll use the sortingview backend to access the figurl *url*. We do this by loading the workspace that we set up while populating `SpikeSortingWorkspace`.<br>This workspace, in tandem with the ids of the spike sorting and recording segment we extracted during this tutorial, will allow us to retrieve the url. We'll also use this opportunity to enable permissions for everyone to curate this sorting. "
   ]
  },
  {
   "cell_type": "code",
   "execution_count": 38,
   "metadata": {},
   "outputs": [],
   "source": [
    "import sortingview as sv\n",
    "workspace = sv.load_workspace((SpikeSortingWorkspace() & ssr_key).fetch1('workspace_uri'))\n",
    "sorting_id = (SortingID() & ssr_key).fetch1('sorting_id')\n",
    "recording_id = workspace.recording_ids[0]\n",
    "url = workspace.experimental_spikesortingview(recording_id=recording_id, sorting_id=sorting_id,\n",
    "                                                  label=workspace.label, include_curation=True)\n",
    "member_emails = LabMember().LabMemberInfo().fetch('lab_member_name','google_user_name')\n",
    "member_dict = [email for name, email in zip(member_emails[0], member_emails[1]) if name in lorenlab_team_members]\n",
    "workspace.set_sorting_curation_authorized_users(sorting_id=sorting_id, user_ids=member_dict)\n",
    "print(f'{url}')"
   ]
  },
  {
   "cell_type": "markdown",
   "metadata": {},
   "source": [
    "### See 2_curation for the next tutorial"
   ]
  }
 ],
 "metadata": {
  "kernelspec": {
   "display_name": "Python [conda env:spyglass]",
   "language": "python",
   "name": "conda-env-spyglass-py"
  },
  "language_info": {
   "codemirror_mode": {
    "name": "ipython",
    "version": 3
   },
   "file_extension": ".py",
   "mimetype": "text/x-python",
   "name": "python",
   "nbconvert_exporter": "python",
   "pygments_lexer": "ipython3",
   "version": "3.8.12"
  }
 },
 "nbformat": 4,
 "nbformat_minor": 4
}
